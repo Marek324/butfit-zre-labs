{
  "cells": [
    {
      "cell_type": "code",
      "execution_count": 1,
      "metadata": {
        "colab": {
          "base_uri": "https://localhost:8080/"
        },
        "id": "0hwqvNwvE97o",
        "outputId": "bfdb27ba-4e8b-4397-b159-aafe4058f2ca"
      },
      "outputs": [
        {
          "output_type": "stream",
          "name": "stdout",
          "text": [
            "--2025-05-17 15:02:03--  https://www.fit.vutbr.cz/study/courses/ZRE/public/labs/05_dtw_hmm/05_dtw_hmm.tgz\n",
            "Resolving www.fit.vutbr.cz (www.fit.vutbr.cz)... 147.229.9.23, 2001:67c:1220:809::93e5:917\n",
            "Connecting to www.fit.vutbr.cz (www.fit.vutbr.cz)|147.229.9.23|:443... connected.\n",
            "HTTP request sent, awaiting response... 301 Moved Permanently\n",
            "Location: https://www.fit.vut.cz/study/courses/ZRE/public/labs/05_dtw_hmm/05_dtw_hmm.tgz [following]\n",
            "--2025-05-17 15:02:04--  https://www.fit.vut.cz/study/courses/ZRE/public/labs/05_dtw_hmm/05_dtw_hmm.tgz\n",
            "Resolving www.fit.vut.cz (www.fit.vut.cz)... 147.229.9.65, 2001:67c:1220:809::93e5:941\n",
            "Connecting to www.fit.vut.cz (www.fit.vut.cz)|147.229.9.65|:443... connected.\n",
            "HTTP request sent, awaiting response... 301 Moved Permanently\n",
            "Location: https://www.fit.vut.cz/study/course/ZRE/public/labs/05_dtw_hmm/05_dtw_hmm.tgz [following]\n",
            "--2025-05-17 15:02:05--  https://www.fit.vut.cz/study/course/ZRE/public/labs/05_dtw_hmm/05_dtw_hmm.tgz\n",
            "Reusing existing connection to www.fit.vut.cz:443.\n",
            "HTTP request sent, awaiting response... 200 OK\n",
            "Length: 84220 (82K) [application/x-gzip]\n",
            "Saving to: ‘05_dtw_hmm.tgz’\n",
            "\n",
            "05_dtw_hmm.tgz      100%[===================>]  82.25K   253KB/s    in 0.3s    \n",
            "\n",
            "2025-05-17 15:02:06 (253 KB/s) - ‘05_dtw_hmm.tgz’ saved [84220/84220]\n",
            "\n"
          ]
        }
      ],
      "source": [
        "!wget -O 05_dtw_hmm.tgz https://www.fit.vutbr.cz/study/courses/ZRE/public/labs/05_dtw_hmm/05_dtw_hmm.tgz\n",
        "!tar -xf 05_dtw_hmm.tgz\n"
      ]
    },
    {
      "cell_type": "code",
      "source": [
        "!wget https://codeload.github.com/Marek324/butfit-zre-labs/zip/refs/heads/master -O repo.zip\n",
        "!unzip repo.zip \"butfit-zre-labs-master/*\" -d repo\n",
        "!mv repo/butfit-zre-labs-master/* .\n",
        "!rm -rf repo.zip repo *.md cv*"
      ],
      "metadata": {
        "id": "atrTNFA1xAbR",
        "outputId": "b3ed8b19-1222-467d-a9f1-3f29de4c5579",
        "colab": {
          "base_uri": "https://localhost:8080/"
        }
      },
      "execution_count": 2,
      "outputs": [
        {
          "output_type": "stream",
          "name": "stdout",
          "text": [
            "--2025-05-17 15:02:06--  https://codeload.github.com/Marek324/butfit-zre-labs/zip/refs/heads/master\n",
            "Resolving codeload.github.com (codeload.github.com)... 140.82.112.9\n",
            "Connecting to codeload.github.com (codeload.github.com)|140.82.112.9|:443... connected.\n",
            "HTTP request sent, awaiting response... 200 OK\n",
            "Length: unspecified [application/zip]\n",
            "Saving to: ‘repo.zip’\n",
            "\n",
            "repo.zip                [      <=>           ]  18.40M  12.6MB/s    in 1.5s    \n",
            "\n",
            "2025-05-17 15:02:07 (12.6 MB/s) - ‘repo.zip’ saved [19289674]\n",
            "\n",
            "Archive:  repo.zip\n",
            "c53344c4826fadd551c9ed0d53584ac1464673ee\n",
            "   creating: repo/butfit-zre-labs-master/\n",
            " extracting: repo/butfit-zre-labs-master/.gitignore  \n",
            " extracting: repo/butfit-zre-labs-master/.python-version  \n",
            "  inflating: repo/butfit-zre-labs-master/.venv_req.txt  \n",
            " extracting: repo/butfit-zre-labs-master/README.md  \n",
            "   creating: repo/butfit-zre-labs-master/audio/\n",
            "  inflating: repo/butfit-zre-labs-master/audio/buongiorno16.wav  \n",
            "  inflating: repo/butfit-zre-labs-master/audio/michiamanomimi16.wav  \n",
            "  inflating: repo/butfit-zre-labs-master/audio/michiamanomimi8.wav  \n",
            "  inflating: repo/butfit-zre-labs-master/audio/ses0019.wav  \n",
            "  inflating: repo/butfit-zre-labs-master/audio/ses0099.wav  \n",
            "  inflating: repo/butfit-zre-labs-master/audio/soprano.wav  \n",
            "  inflating: repo/butfit-zre-labs-master/audio/tancovala8.wav  \n",
            "  inflating: repo/butfit-zre-labs-master/audio/test.l16  \n",
            "  inflating: repo/butfit-zre-labs-master/audio/test.wav  \n",
            "  inflating: repo/butfit-zre-labs-master/audio/testspdat.wav  \n",
            "  inflating: repo/butfit-zre-labs-master/audio/train.wav  \n",
            "  inflating: repo/butfit-zre-labs-master/audio/vic8.wav  \n",
            "  inflating: repo/butfit-zre-labs-master/audio/violin8k.wav  \n",
            "  inflating: repo/butfit-zre-labs-master/audio/woman.wav  \n",
            "  inflating: repo/butfit-zre-labs-master/cb210.txt  \n",
            "  inflating: repo/butfit-zre-labs-master/cv1.ipynb  \n",
            "  inflating: repo/butfit-zre-labs-master/cv2.ipynb  \n",
            "  inflating: repo/butfit-zre-labs-master/cv3.ipynb  \n",
            "  inflating: repo/butfit-zre-labs-master/cv4.ipynb  \n",
            "  inflating: repo/butfit-zre-labs-master/cv5.ipynb  \n",
            "  inflating: repo/butfit-zre-labs-master/cv6.ipynb  \n",
            "  inflating: repo/butfit-zre-labs-master/cv7.ipynb  \n",
            "  inflating: repo/butfit-zre-labs-master/gcb64.txt  \n",
            "   creating: repo/butfit-zre-labs-master/img/\n",
            "  inflating: repo/butfit-zre-labs-master/img/DTW.PNG  \n",
            "  inflating: repo/butfit-zre-labs-master/img/HMM.PNG  \n",
            "  inflating: repo/butfit-zre-labs-master/img/LPCCcoeff.PNG  \n",
            "  inflating: repo/butfit-zre-labs-master/img/joint_prob_HMM.PNG  \n",
            "  inflating: repo/butfit-zre-labs-master/img/lpcc.PNG  \n",
            "  inflating: repo/butfit-zre-labs-master/test_code1.npy  \n",
            "  inflating: repo/butfit-zre-labs-master/test_code2.npy  \n",
            "  inflating: repo/butfit-zre-labs-master/woman_code.npy  \n",
            "   creating: repo/butfit-zre-labs-master/zre_lib/\n",
            "  inflating: repo/butfit-zre-labs-master/zre_lib/__init__.py  \n",
            "  inflating: repo/butfit-zre-labs-master/zre_lib/frame.py  \n",
            "  inflating: repo/butfit-zre-labs-master/zre_lib/lag.py  \n",
            "  inflating: repo/butfit-zre-labs-master/zre_lib/lpc.py  \n",
            "  inflating: repo/butfit-zre-labs-master/zre_lib/vq.py  \n",
            "  inflating: repo/butfit-zre-labs-master/zre_lib/zre.py  \n",
            "   creating: repo/butfit-zre-labs-master/zre_lib/zre/\n",
            "  inflating: repo/butfit-zre-labs-master/zre_lib/zre/.zip  \n",
            "  inflating: repo/butfit-zre-labs-master/zre_lib/zre/__init__.py  \n",
            "  inflating: repo/butfit-zre-labs-master/zre_lib/zre/frame.py  \n",
            "  inflating: repo/butfit-zre-labs-master/zre_lib/zre/lag.py  \n",
            "  inflating: repo/butfit-zre-labs-master/zre_lib/zre/lpc.py  \n",
            "  inflating: repo/butfit-zre-labs-master/zre_lib/zre/vq.py  \n",
            "  inflating: repo/butfit-zre-labs-master/zre_lib/zre/zre.py  \n"
          ]
        }
      ]
    },
    {
      "cell_type": "code",
      "execution_count": 3,
      "metadata": {
        "id": "Bu3ASTicbelV"
      },
      "outputs": [],
      "source": [
        "import numpy as np\n",
        "import matplotlib.pyplot as plt\n",
        "import scipy\n",
        "import scipy.signal as sg\n",
        "import scipy.stats as sts\n",
        "import librosa\n",
        "import soundfile as sf\n",
        "from tqdm import tqdm\n",
        "from IPython.display import Audio"
      ]
    },
    {
      "cell_type": "markdown",
      "metadata": {
        "id": "OBTcp8MKbelW"
      },
      "source": [
        "# LAB 5  - DTW for speech recognition"
      ]
    },
    {
      "cell_type": "markdown",
      "metadata": {
        "id": "CVMj1WdPbelX"
      },
      "source": [
        "## Ex. 1 Dynamic Time Warp\n",
        "To compensate the time variability of phonetic instances (\"dynamically\") we look for the best possible time warping of the time axis.\n",
        "\n",
        "### 1.0. Prepare the training and testing sets\n",
        "We have 4 training sequences and 7 testing sequences. We use the training ones to train the model. Then we use the testing ones to check the quality of our model.\n"
      ]
    },
    {
      "cell_type": "code",
      "execution_count": 4,
      "metadata": {
        "id": "KTkNCvzIbelY",
        "outputId": "7e56bc0f-ec09-4fcd-ee53-51fd3a60782c",
        "colab": {
          "base_uri": "https://localhost:8080/",
          "height": 76
        }
      },
      "outputs": [
        {
          "output_type": "execute_result",
          "data": {
            "text/plain": [
              "<IPython.lib.display.Audio object>"
            ],
            "text/html": [
              "\n",
              "                <audio  controls=\"controls\" >\n",
              "                    <source src=\"data:audio/x-wav;base64,UklGRs4aAABXQVZFZm10IBAAAAABAAEAQB8AAIA+AAACABAAZGF0YaoaAABzLmRuAAAoAAAAghoAAAMAAABAHwAAAQAuMjFsADYAAAAAAAAAAAAAPwE/AVABXQFXAVUBZgFwAXQBbgFpAXgBgAF0AWUBdQF6AXcBdQF5AYUBkgGIAX0BhwGPAYABegF+AYUBjwGGAXkBegF7AXgBeAFxAWcBawFhAU0BbQGbAXsBgAHIAeUB5wENAhcCLgJyAncCSAJmApACaQJeAmwCUAJLAlMCGwL+ARMC/AHIAbkBnwGOAZoBewFSAWgBgQFfAVABVwFOAVMBSwEzATwBXgFPATgBSwFaAWMBaAFWAU4BXwFdAUwBVAFiAWoBdgFvAW4BigGTAX0BfQGDAYkBjgGEAXkBiQGXAYQBggGUAZEBkQGQAX0BfAGIAXkBZQFuAZABngGJAZUBvAHdAeoB/QEEAiUCVwJMAjMCUQJqAlACUgJQAjoCPgJCAhEC9QEIAvUBzwHCAbABoAGkAY0BdQF9AYMBbQFmAWEBXwFrAVsBRgFOAWABUgFJAVABUwFhAWEBTwFUAW8BawFkAXEBcwGDAYwBiAGEAZYBpAGZAZgBlAGdAakBowGUAZ0BpwGbAZcBlAGMAY8BkQF5AXYBfgFyAVwBXAFlAYQBiQFyAYMBrgHFAcgB6AHsARECSwJMAi8CTwJxAlsCZQJcAkgCYgJwAigCBQIpAiACAgIsAt0BUwJnAgUDhgJgCWAG0QNnBjr/nvym/DMBWv/9/18FEQaKBG8C+f86AUL93Ps7+ur9Xvv2/Db9Vv7OAOYBZAAxAWgF8wPvAyMCygENAbgAqP0E/Bb/j/4r/IL7x/um/A8B5QRTAA0GSgtdDDoKIAw4DZcMug2vCFwGzgbJBZL/tPwm/T/7Vflr9zv3HPnL+4775Pvt/2IDpgZOCV4K7QrrDfoMQwmdB9AGuQO7AHX+vPyK/PH67Pim+N76mvum+6T8gf4uAM0ANwGWATUDywO7AKUA8f8T/2z9zfvx+8z8U/0s+yH8YP/W/1v+gv3q/ib9Xv0KBwoNDwgUDN8TrRSQD5QQ6REZEDkQ+wp5BE8CpQFy+kH0O/XW9QL00/MF9cH33Puj/mf/AQL6BtgIWgh8CYgPDhDYCm8J1gn8Bg8BN/0X+sj5yPkB95717PjF+2n6t/ox/W7/3/9c/y3/RAG0Ai8ADP6r/sb/Av8//sD+TACVAu8CqAJeBYMHzAYjBJACgQHK/s/4gfgyA3YHEAG1BQMRGxPmD0cPBxHOD7oQeQvzA50CzALJ/Pv0QvTq9FP0oPJz8mz0M/k//db9f/9wBBUJawlXCA0JHwwlD8UNTQcOBrYIzwSZ/aL6GPwt/CD7n/lN+kL+8ACq/2L+ugFNBKUCRQB7APMBtwG2/tr7CfsD+9P6vvlQ+aL6R/wB/kz+dgAoAjIDmgObBeIGeQXmAYP//wekDA0GWAhFEHYTMA8EDooPjg0sDfMIGwMk/3b/FvzH9NXy7vP99NDzcvTo9pT66/4xAY8CygTMCJIKZQnXCHYJTAvPC7AK+gWABAoFpAGo/F36dPwr/c796v1v/skAPAGm/879kP6rADUC4gKwAZcAa//t/a385Ptq/MT+7P/O//4ASwIXA8wBp/66/fD+Ivwn+2n7uPwD/RT7wPyDAfsGyAVdBIUJtg45EOINzA6cDxYQ3w5vCjcGxgMlAr/87ffA9s33iPh3+Lz5x/tY/jsA0gAjARgCwQM2BJcDDwN6A9QEBQfRBQoDFgQ1BRIENwLEApIDgQMHBDkDBQIhAWUAd/6p/X39pf7eALcAsgCQAVIB0gHbAQD/8/xq/UT+vf4hAKb/xgF4BNcFtAa+BroDPgHCAKH+pfxr+kv6yfurAOwAJgCmAsYF2ghsB3kIcQk2CgwKVQeaBNsBtAElAKX9//xz/vX/sf/T/7T/7f/MAJ0AOf9d/nL++v7Y/pj9eP6VAFcDHAMPAZ4A7wI8BGgDLwOoAzsFcwZZB+MG/AVXB+0GAgPp/7L+rv2B+gj6x/xp/I39gv+//pD92/7O/vD++ADaAS8BAgFvASYA8v6j/kn/pv4j/sP+QP55/hoDtQVvAwcDIgVYB7oGoAW3BFUEvwWvBUwEowIsAxAE/QKFAYABOAKRAQYB8gA5AXkBkgGs/0j9K/wM/EX86PzD/wwDSARHBNkFsARXAy0D5gJlAn8B3QLqA/gE6gZJBiUFMwRzA+UBbv9d/Qn7Cfr8+TP5XPml+779QAFKBd8HJwjCCm8MBAyCCD4FKASSAuz/QvxT/a79gPpu94f12/ia/mP9jPzm/jYEKgZUBDQEggOPBM8FwwR7A1EDTwXXBNsD9QMOA+8CGQOdAqUBiAFVAJr+6v0i/tL/zgBnAXsAMv8O/6sBJgZIBQMDWQS4BgkGfANQAzQE4QVDBGQCMQMyAkAD7QB2/Xz/awDC/zIAvgANAZECcwDp/1kA2QAkAzMALQEaAun/o/1b/e78KfyL/Tj+aP54+aX6UACiA94C9AIoBd0GLgWYAwAF0gRxBXgFNgV9Bb4GRwcSBAoCegIeApj+g/6c/mD96fzh+1P8v/2L/iD+BgAEAiwBdwC9AYkEfAdiB5YGuQhwCrYH9gTnBcME3QRXBSIF3QNYA6IDBv8q/70BBgJsAqQE9wTDA9UCEfpT9x/3aPqt+6j9IAE5/jP9gvx2/e37AP4F/vj5wgEZCUwCqQBbBToItgRjBHwIAgi8CQUI2AQSAwkFfwOD/qAAwAIBAC39FP/W/0P9iP06/qn8vvxs/ab86v0NASQB4wBFAwIJhAiCBToJrQrIB90FuQgLCEkGbgU2BZ8F2AOW/6/8Lf6O/tj8nfuW++v74Pra+Lv4/fj9+H365/zq/+IBYwBeAIwCqf8E+p/1i/6hAEPyXPirAvoDbwJnBawPkBLFEVgPCBBzElwMmwNDA1UF4f7v91P61vxn+cH2zPgl/Cj8pvrk+/D/MAHF/kMAbAYYDYsH2wUKDywNgAJ4AG0GLAHh+zX9sP7l/IP4cvcR+nb8t/gN+gYBjwDd/zEDBwQI/nj6P/pr/E37Hvut+jT+qf3O+Yv1dADeB+72gQV2FN0SWgpCFKAeXhJxECcR2xJJDS8GuQJ+BbMBQPXt9Vf7xfNv7FXyh/XY8gvzivlF/isAtADRBdwM8g3LEeIR9hTqE3UP6w1vC84GMABTAEX8mPiq9i32U/Vz87n08PXt9zT4Vfup/oX/X/8BAlgCzAB5AAwA3v+w/fj6WPp59N/7vQLY9WQBeA/6CgEFzxZrGeERKRVcFRMVbw+BCiYJmwpz/1752P0/+ejv8fDG87Two++K8kT3O/mo+bD9lwVxBXYKGxNREKMSJBXxEjsO7A0wCTgFPwJF/Qj8PPhf9CzzAPOp7+HwyfJI8132RPkr/B//SwGXAtYEtQNUAvMCvf/h+4v5vfnhBvj8g/rDEC0OkARpEZEYrhB1EbUSghSWEMgI+AkxDdIBAvzQAf38+PRg9Yb38PQf8oTz8fiy+P72U/2SAlcBbgaHEIgMiA/YExoRWQ+UDZoLbQhUBLUA/AC7+kj3wveK9KTx3PJG8ybzQvUF93T6dPuE/aYATQF3AJcCKwGf/8P/rPu69sUHhgLf9fYPYA60BBUPUBV5EbgR8A/bFE8T5AclC74NDwLA/bEBZPxR96H1kPdO98vy5/Qi++f4KPil/uQBiwFVCEwMGg4uEAkPJRLNDowKAQufCGoCkgGx/3L70vjW9jv22vOH8kj0J/Wp9ML35Ppe+8j9RQACAUcBEQE4AT4A0f25/OP35fhBDVH0Rf8cGbL/8wvwEz4QaBMwDq8RUxZhCooHAxBHBoz9OwPw/u35nfe49j/6F/Qh86T6hPlx9hH9RgE0AekFowmuDhoOqgwFE84PsQm3CzMK+QL2AfEAnv2Q+af3qfhP9fHyS/aP9iX1rfjV+2n8ov12AWoCxAHeAeUCgf/y/hP8gvpo8if+fAhD7FEMlREZ/igSnBJzEvMS0Q90FQEVugg4C+MPBAJt/iQD9fvF95j1APf89n3x/vNk+nX39vZ//6MB5AKiBlAP7w/3CzgSLhN2C+IJKAxDBRAA+v+c/gb5ufXN9wn2svFi9J/3ifVz91v8Jv5y/gcBdASgAzoCNAP6AnX+afzF/Cj5t+07/qwI1OqFCRQVRwBBEKQW3RQAFaYRHRYBGBgKvwi5EAwDdfr0AFX7kvTS8kf0avX08F7xMfrp+Y33ZwCqB1cEuQwKE7UQKBJkElQR5gxTCEEGswOo+//6DPrJ9PDyefQT89fy4fRl98H5T/sY/3ECMgPTA3oGYQVYAxYCvABP/BL6gPZ79JfqPQAUAt3o5hEwEqsBUxWEHMYWjRepF+YXuRc8CmMH/Q2U/Sv16fud9Ubtje518cbwnPBO8kH7Ev7i/GMFaQ8YC9gSdBqaEzAV6BOrDhgJXQRZ/qv8ofVw8+v0pfEg8MP0H/Xk9fL6jv2DAKgDvwX6B9EIVgbmBvUDYQDJ+/b6K/Vl8YPxbe5N5fjvoQgU7vH+yh9sD3QQMSQRJPccKBw/GqEZRhDd/84DvADc7JnrRfE+6vHkJOwY8S30Mvbi/WEIKAwGC2EXzxrVGYwbrhcGFj8OJAX9/8L8yvCm75zwW+7p7RfzOfaX+ar8egH3BkYI8AisDMkMRwh1B5UEnf8n+rP26fJd8AztRutv7SPtn+d86r0SFgAR+7IrMiaHFs4lCS+JIFgY2hEoDT0JR/Fx6hD1oOWX2v7kiO1C6L/uq/qOBN4KZw1kFdIg5BuzFzIdRBmlEXAH3AJC/i70wer47gbvBep772H5qPzY/9IGFg1iD3INTg4TEHIKEwMmAnL+Jvc58m7x6PAb7vru0/Ka9TH0qfmD+9H8UvNH/zIrQgHJCIM3qyC0D3UcQR2ZDA0F3/jP903/2OF34Tn2GO/r5Tjz+QN5At4GEA0IFRIc4xKMDs4XThEHAoAAkwHc/anzZfAh+HT5tfEL99MDqAPFAY4Jyw92DjEK0Qj/CiQFKPuQ+pX7F/Vn8bj03ffQ9/r4+vyWAqcCKQGEAy0FTf/G/CL7aPeZ7NXrfhyRAPPyJieXITwPFxbnHJcUNQ//ABv38AVi9DDg9e659l3tzewn/GgDHwmPCjgLwRi9GbkL8Qt7EdYIEvw6+mL86Pue8rjwvfwDAL/4Iv8zCr8KkghbCT8N9Qw3BHL+NAHE/QH15/OV9xX4Iffy+Ej+dQPwArsBrgaJB74B+f4H/iL5bfd18ULv9uG195ghh/p1BEYzUCj5FsQaWRsiEk4JR/J46tb8/Oc02O7p7fbc9Bf4Yga7ELwbKhm+EBcblxvlBlD9PP+x+YLwgutL7iT6Bv3D910DDBGmDh4Lpw6sEBAOVwRj/VEABP3r8dTwrPZ/9+/2lPkmAEMHvQdGBWoK+Az+BVEAUf+P/Hj36vE08IvyufLf8KTxo+9P8PsoZyD1AUwuADmCH1UQ4Q78Av78P+8z1LnmmvTD4NTlEv7wDHwNahXYGQwfcyWNEV0CiAceAJTrJub36qXtJvNw9or8zRHBGhIQpxTSGh8SfAXP/Rb5Y/mz86rra/Km/Kj6v/roAugIQAtFCa0GtAoRC7YAHfvL/Ev6UvO88RH0P/dX+an4hvsbAVQEU/wf9+vsFh2UKp/5xhLIKxAf+wcQA2j9k/wx/ybi7OC9/qf72PAY+hANjBJPFIIRXwqSFQcTPPtd9HX86/eM7oDvDvT4/mQIowW1B0UZPBprC90HRwiYAgj6XfKx8f76Svy29gH9GQg+CBkFqwRBBtUIKgRy/HT9aAHp/On2vvhr/D38fPtg+6T+XwKVAOP9//1GAJn5svFS5D8MeyX9/ocOgyWMJFcUHwuP/9/72wRQ63zdu/Km+gP05fZFBZYNNRZjGMcL/A5lFSEGIfYm9i/2AvL58Tzx7vaEBgsLbQhPEc4aqRT2ClEFQAEf/RD2oe8M84380Pxs/NoCMAl2CsUHVAQOBWwG+gDJ+uT7B/42+0X50/lL/GH/w/6q/QoBhgKo/23+C/z3/ND4hPG441YIByQyBG4QASOaJHMXrw28/Q33OAP37bzdNO6b+Y73dPsgBsELLRdCHMsNjApnEJ8GEPfO8uXxJvE89ZD0uPbWBMMPow1mD80SWRVhECAE4PpK+5f6F/Id8Wb46P/qAuMDqQV5CyUNTwZkAR8CogFO/RH5uvj8+/H9nPtE+yEAKwN0AiwBhwFIAlABOf01+vf40frA9M3vE+hCBVIjHwsLEmIiHiUpGcIMQPzM817+gO6a3vTqY/iD+9T/9gddDZkYvR2iD5EILgvPA5n2RfC17Qbw8vaI94v5qQV2EGoSgRBLD4ISzRG+BCf5f/hN+UT1lPLG9U3+qgYRB6IFXwrrDRUJGQKa/oX+Uv7w+Zj21/n+/ur+Zf21/x8DaQWOAzQAhwBRAYv+uvpO+NT3KvlK9c7vsez7EWIeTwpMGDog4yDEFUgJmvXQ9dP8Yulb41bvPfl9/n8F5wi/Dd4aARovDMUHtAbi/uv2TfAy7OryRPqJ+Sj9SQicD2ARtRG8DdoKZQthBVT7Xfix+DX44fga+kL9xwSoCD4HKQjDCd4HVwSM/z/8ofxZ/JH5fPlT/fP/KAHFAToCbQQ8BZAC8v/s//7/zvzz+YL4IvrW+sn55/dZ9/zx3ANOH5IOJBE/G/QcshXqC4T8CfK3/L3yn+fR7Rb4K/7xBCYJyQm/E7sYfg76BmcF/v84+oT1S+9N8Rz6MfwD/R8ERQviDi8QnQw5CqQJmQQ5/nD9jvtR+pj73vuf/X8CtgRWBL0GgAduBmMFoAJG/+7+j/0n+3b7svzM/dz/+wBBAYcDkwS0AsQBMwGS/03+L/0g++f6T/z4+9P7Fv0L/aT7hvtp9h0JzhYgDMUPJBUtFXUPDQuc+5j3IP4g9hXwa/SH+jz+gwVVBmgGoA5rEbAKbwadBGcARv6G+vf02fZ6/E79Rf7vArEGaAq4C8UI8wauCD4GVgIlABv+vv42/1T96fzCAMwCVAPzAz0EawUpBj8DXACRANT/Hv5H/ef8xv1TAJ4AFQDwAVsDCgNZAjABdwC0AFv/ov0d/XT9W/37/Qv9D/1Z/xn/7v1C/J76pvgPCaEQHQhrDZERTRXMD9UJbf4U/t4AkfdH84L00Ppr/W4BNABtBJoLuwzNCIgG3wX/A0QCZ/zg+LL6MP2W/Dr9lP80AyIHPQccBoYHDQf/BSIGGAJKAGEAEv8B/QX+if4MAMoCxQJZA+IEqwTmAhMCOQAg/3P/Wv5y/ej+/f84AAoBVwG9AVoCzQFoAIMAOQB+/yP/uv6w/jL/Y/+J/pr/+f/m/5AAiP+t/kv+ufzm+av8GgftCfgJ1gwDD6UOsQsMBZT+Xf8K/hX7cPpl/Mz+qwJSA3gC9gSeBnQFUQOGAR0AdQB8/0T9pv13/68A+QHNAk4DJAXpBfIEwgQ8BNUC6wFTAG3++/7U/8n/0gDcAbkC4gOsA0EC0AGZAacAEACh/27/LwBrAOT/LwCtANQAFgHvAKAAEwE9AYoABQDm/6f/rP+Y/3z/eAAvAWoBsgHuAd8BYgEVAWkAQv/L/nn+G/7L/Vf9Ufx4AUMFkQeSCYMJUwoACtAHCQNcAVsAn/++/+j+nf+MAQ4DhgL1AiIDXQMjA/oBrwBmAMwAl/+O/27/uQD3AVgC0QJBA14EHQRnAxgCnwGnASgBkAD0/6UAYAHHAXsBTgHPATACIAJ3AU8BgAG4AUYBqACaAK0AoABiAD4AUADBACIBEAHRAMkA3gDCAHAAQwBeAOUAOQEiATIBewG8AdkB3QGGAV8BHwEXAR4BoAA9AHkAPgFSAf8AugBHAcgBjgEbATYBhwIfA00D/ALMAlwDXAOdAt4BAgJCAtICgwLGASsCiwLCAisCygEOApUCsgK8AWABgwHhAegBUgESAV0BBALsAYUBTwFkAcoBmwEiAdoAFgFlAVIB9gDWACYBXAFDAeYAxQAUAUwBGgHEALAA7QAbARIB+AAvAW4BTwEkAR4BNQFjAYYBjwGpAQMCRgIvAuQBwAHnAfwB2QGWAYABtwGsAUwBKwFBAYEBrAFwAWABggGoAacBPQELAScBQgFYAWgBlAHmAUICPQIQAvwB0wGvAaQBYwFSAZYBuwGxAYYBcAFoAYQBfAFPAWkBjQHAAcwBzQHtAfoBEwLvAbYBjAFqAVMBMwE9AU4BawGJAXgBcAF9AXwBhAGEAY8BhQGGAb0B3AH7AdQBfwFoAXEBeQFVAToBIQHkAAIBHwFBAZkB2wEAAvgB5wG5AZkBjgGNAYkBdwFUATwBfAGkAZMBtQHdAesBwAF+AXgBrQHnAacBVgFuAZwBrwGtAccBuAFgAV0BggGVAZ8BpwGqAZ4BpAGQAYUBigGcAa0BggFoAWUBUwFEAUEBQwFRAXEBhQF6AUwBMgE5ATUBOAFAAUcBWAF0AX0BewGJAZ4BwQHWAdABxQGxAYYBagGLAakBsQGtAbUBpQGXAbQBsgGPAWgBXAFdAWMBdAFwAVMBMQEiARcBGgELAREBSwF/AZkBkgGBAWIBZQFuAW0BbQF4AX0BbwFnAWABcgGJAZYBrAHDAdEBxAG7AaUBmAGeAZsBkwF+AYQBmQGfAZwBlAGTAYMBewFzAXUBkAGgAaUBrgG1AbcBrwGnAakBpAGyAbkBqQGqAbcBtQG+AcABrwGjAbgBtgGhAZwBnQGgAZsBngGXAaEBrQG4AbUBswG3AbYBtgGwAbcBvAGwAaABmQGZAZQBjAGHAY8BmQGaAacBpwGpAagBoAGeAZ8BmAGOAY0BkwGQAZYBoAGfAaUBqQGiAaoBuAGzAawBrQGsAaYBrAGhAZABlAGPAYYBfQF2AW4BZQFbAU4BTgFjAWQBYwFtAXABdgGCAX4BewGOAZgBngGaAYoBeQFyAW0BcAFxAW8BcgF0AXYBfAF/AYABhQF9AYABewF2AYABgQF/AX4BhQGKAZIBlAGRAZQBmgGZAZwBmwGWAZsBkQGNAYkBjAGOAZUBngGkAaoBpAGkAaoBsgGnAaABngGgAacBogGcAaQBrQGtAa4BuAGyAaUBngGhAagBpgGfAZQBmQGhAZ4BqwG4AcABxAHPAc4B\" type=\"audio/x-wav\" />\n",
              "                    Your browser does not support the audio element.\n",
              "                </audio>\n",
              "              "
            ]
          },
          "metadata": {},
          "execution_count": 4
        }
      ],
      "source": [
        "def frame(wavname, ls, rs, Fs):\n",
        "    # load\n",
        "    s = librosa.load(wavname, sr = Fs)[0]\n",
        "    sm = s - np.mean(s)\n",
        "    # divide signal into frames\n",
        "    hopsize = ls - rs\n",
        "    Nram = int(1 + np.floor((len(sm) - ls) / hopsize))\n",
        "    xram = np.array([sm[i*hopsize:i*hopsize + ls] for i in range(Nram)])\n",
        "    return xram\n",
        "ls = 240\n",
        "rs = 160\n",
        "Fs = 8000\n",
        "train_orig = {}\n",
        "train_orig[\"1\"] = librosa.load('05_dtw_hmm/1.wav', sr = Fs)[0]\n",
        "train_orig[\"2\"] = librosa.load('05_dtw_hmm/2.wav', sr = Fs)[0]\n",
        "train_orig[\"3\"] = librosa.load('05_dtw_hmm/3.wav', sr = Fs)[0]\n",
        "train_orig[\"4\"] = librosa.load('05_dtw_hmm/4.wav', sr = Fs)[0]\n",
        "\n",
        "train = {}\n",
        "train[\"1\"] = frame('05_dtw_hmm/1.wav', ls, rs, Fs)\n",
        "train[\"2\"] = frame('05_dtw_hmm/2.wav', ls, rs, Fs)\n",
        "train[\"3\"] = frame('05_dtw_hmm/3.wav', ls, rs, Fs)\n",
        "train[\"4\"] = frame('05_dtw_hmm/4.wav', ls, rs, Fs)\n",
        "\n",
        "Audio('05_dtw_hmm/2.wav', rate = 8000)\n",
        "\n",
        "# Audio(05_dtw_hmm/2.wav, rate=8000)\n",
        "# Audio(05_dtw_hmm/3.wav, rate=8000)\n",
        "# Audio(05_dtw_hmm/4.wav, rate=8000)"
      ]
    },
    {
      "cell_type": "code",
      "execution_count": 5,
      "metadata": {
        "id": "_TDY1SflbelY",
        "outputId": "913d3d51-cb0f-40e2-a5b3-3b0721834792",
        "colab": {
          "base_uri": "https://localhost:8080/",
          "height": 76
        }
      },
      "outputs": [
        {
          "output_type": "execute_result",
          "data": {
            "text/plain": [
              "<IPython.lib.display.Audio object>"
            ],
            "text/html": [
              "\n",
              "                <audio  controls=\"controls\" >\n",
              "                    <source src=\"data:audio/x-wav;base64,UklGRrwZAABXQVZFZm10IBAAAAABAAEAQB8AAIA+AAACABAAZGF0YZgZAABzLmRuAAAoAAAAcBkAAAMAAABAHwAAAQB0MmwuNjEAAAAAAAAAAAAAUQE9ATwBWAFNATsBSQE/ATQBPgErAR4BKwEYAfAA7ADiANIADAFBATMBewEFAjgCPwKZAuYCAQM4Az0DGQM2A1oDHgPnAucCzgKZAnwCMwLsAeIBswFMARgBBAHeANcA1gDOAPgANwE0ASkBQgFdAWwBcAFlAWsBiAGQAX0BhwGcAagBrwGVAYABigGHAV8BUwFfAWgBdQF4AXQBhwGoAZgBggGFAYEBeAFsAVgBVQFtAWgBVgFJAUIBPwFOAXMBbgF4Ac8BEAIpAlkCjgK0Au0CCgPqAvICEwP7AtgC0AKqApICjwJUAhEC+wHmAbABlAF/AWUBbQF4AVsBVwF0AXUBaQFnAWABZgF5AW4BYAF1AYcBfAGDAX8BdwGLAY0BawFxAYwBhwGHAYsBkgGfAbMBqAGaAaQBqAGZAZoBlwGTAZ8BnwGTAZYBmAGOAYgBhQF4AXQBdAFcAWABjQGsAZoBwgEGAh4COAJdAmcCfAKtAqkCjQKeArYCngKUAowCcAJpAmcCPQIOAg0CAALTAbwBpAGTAagBmgFsAW0BhAFwAVoBZwFhAWoBdQFVAUUBaQF4AWwBcAF2AX4BkwGeAYcBkAG0AakBowGsAa8BvQHJAbQBqQHFAc0BvAG5AbUBtgHLAcABqQGxAbUBsAGoAaMBlQGXAZYBegFxAX8BhAGRAbMBpwG8AQcCFAINAjYCTQJQAnoCfwJVAnoCnwJ6AmcCcAJTAkACSAIdAvYBCAL+AcQBxAHHAaEBngGzAYABcgGgAYUBYQGGAYQBXwGMAYcBTAF2AagBZQGMAd4BiwGCAQsCtAGmATMCVQIlAv8CFQOCB6cMOwcyBDAFeP/k+t/5ZPaG+Q77gPiF/QcBuwCMA8ECIwEvBN8BC/9zALUA8AN4AyAAjQRdBzgG0wcnBvgFHgoUCB8EJAQ8BIMDdAFm/hf+j/6l/lb9qPut/bIA9QHtAsECVAXfCAQIkgaKB7sHsgeNBZ4CVwJ9AsMADv7+/Hj+5f4t/mz+yv/wAbAClwHqAdQDcgS2A+gChQPSBB4EEQP+AQkCygGYAMH+G/2j/fn8l/mm9nj1rvY0+Zf9DAKkALcFigvpDOQOnA8yD6oPdg15CeAF3AFC/5b6Kfb89Ar0W/OQ873zDvZO+Y775P1CALcDkweYCjQN1Q0xDfYMeAvuB1kEQwGl/tn8hfvl+oD78PzQ/Sr+s/9GARsCegJ+BIIHPQukDBoIaQPe/1P+if3D/pMBQgTkA6QEdgXiAyIEvwBW+WH24fZW9GTybvSF+Ob6I/5dAp8B8gOCCMcKqwqZC20NLwt4CEwG7QJM/7P9tfpm9xT2t/ad9/D3rPkM/Fz+TQH5Ay0FcgfwCdUNUxFzDvkLbA2FDO8GqQJKAOH+IP7o/F77FfwSANMBrAFRAxcGwAbmBbQEcwUuCQwMrhBjFV8VNQ4OCDoEv/+zAKb/vffy8rn3HP1a/i79pP8PAkn+Hft19gL1c/Qp90r6bvlM+4IAMATKBDUFggbyB5kGBwUMAlD9uPyF+9j3LvW99MH1UPbk9t74LPvN/dMAdAKyA9gFJwj5C+cNEQxICuMKfwrjBr8D9QGSAdYBpQIPAywFegjuCZ0IuQTUB1sJNQozC0AKggkzCTQJnQflBr0D8Pty9zb2a/kw/Az7YvrO/TT+svw4+9v6Pfsi+577z/iA9ZT1QPfd+0kBjgGQAZsCKwRJBeAEUAShBXgFHQXgA80AUf96/sT9Wfx5+778Af7K/sf/iQCdAeMCvQNyBPcE0gUJCFgLvwk/BgEGzAYXBiwECQQgBMUETgYWBvgD9gMQBc4CxgEsATkB4QLyAjsDBgPtA+MDQwQeArQBVwBK/qL9Sv6F/+AAFgAA/tH9Dfzb+mv5tPgG+pL60/vR/aUAqwHl/zr/KQK3A94AUP9c/00ACwHjAVYC6ALXA0oEqAMlAiUCzQIaA1wCHwKNAicD2gPsA20DLQL7AUABSwA0/xD/LAARA2wFXwS/A9oFggYmBAoD+AJ+A8EEnAXTBdoFSwgxCRAG4wO+AyIDowG8/9f+zgC4A5sETwQhAz0CcAJrAXj/yvwS/Kj+ggJiA8oBi/9C/MT6YvvV/Fj+Qf4t/uX7xfl5+Tb6PvxA+077N/1//7cADQInBKgEMgW5BR4FBATIA0EEdgSuBC8F1AUUBW4EAQRAA50B8QALAbUAIwFDAhsDhQObBM0EKwN9A+oDWgTJA4IFpgWjBEQGLwZ6BCcDggS5Ah0BHwBK/UL8sPw6//H+cwCUATkCrwPjBKMDHQMpBQQG7gTDAbAAagILAXD/LwCq/7j9fPwp/OT6UPxj/Pz8/v2Z/Xn9n/8tAVkBfANLBC8EdQPuAqsCYgK9ArAClgKEAkoCKwItAmAC4wJ1A20DpwJhAUsBiQGLAAgBbgAuAZIC5AV6BikEsQSXBoIIKggGBzIFvQO0A6cBsQAWAfcCpgEDAAkCHwS7BpcFOARmBGgFOgPA/x8A2P6t/o3/Dv/p/2f9NP2f/oAADALw/Zr9F//w/fT6zPsy/gH/SP4G/df+sP3J/WH/aP6F/1wAFADY/7f+PP+I/2kAOQHTAUUC1gNlBDID4AKzAuADiQSRBCgEswOtA+8DFgPNA4MFRQaSBxgHZQWmBeMFcAT+ASgC1AK9AvoCJwKaBVUHvANYAXz/NgE1BpMHqwgTCgAHagOdAGwBbwIV/kD95v7b/gkAEQJBBkIGfwI+/Vj4PvZd89zyEfXI+qT9T/ze+0sAHgOFA6cAe/2o/Cj+jf8o/4sB1gNiBbQEAQMNAw8CGgGQANkAGQIEAy4CnAC8AS4CAgMlBUsE2AE3A9EF6wS0AR8EYwiSC1MIOwRMBMQCwwZNCFYHSgmtCA4H2f7Y+2v8OvxX+E73lvmk+0cD6QCB//kDUgU0AsADyAlUCc4LJwfuCD4HvwOpATz8ePbU737xNvHU8Rz0+vev+v321/n8AH8FFAZdCQQNAg3GCiAHzgWTA8QA3vuq+ED4E/Y18xfyH/Te9B32+veF+8z9TQFIA8ULHBEyCDUJ5gsCC1wF/Qk3Cp8FeATCAlwC0v/k/fj4q/sz/IH42fmG/kD+yvrJ/n0BdgMhBYUIVAn4CEQGXwFOA3MBX/yc+zP9Dvqi94v6iPlc93r3r/xBBYMDlAoPFSsX8RNYFMEYuRYkEowP7g8WC+wDq/74/ET66vNh8JbxH/JW76fw4PVA+ZH6UP5aBKwHKAteE1ERABIPFpsSoAwYDNUILQBp/ib76vZe9ez0cfOT9eL34PdM/DIAVAHBAxcISwihCDQKMAl2B2kFeQL//wn+Dfu7+pf65/gU+bX4+PeK8zz04fhG/33+c/70DNYSDBDTEBIcIBwIFcYV3RZxEQgJIQT0ANb8dfPD717xTu+A6gft+vJq88z03frzAWgERwd7DT0W0BTSEXQZARd9DuoL5wtWAx/95vrC+JH1jvHI8lH1ovQv9Ij6qf0w/dUA5QW0Bo4Gkwh6CXwIuQXQBCsEoABJ/fH8Bvv791f3pfUN9M/wsfGD9e/8uPwx/1AN3BGGEAMVYB39Gj8X/hfaF7cRRQrZBXsClfsX9KnzBfN47qfsk/Cd8rHyqPVg++r/pgGUBe8LWxLlE2MRthkVGE8P5Q8+D2kFBgB0/2X6Svbz8ib0QvTK8XrzO/k/+fH5HwAGAzUDYwVoCH4IVwd7BioHqgS+AH4A7/4i+0H4qviI9uTz5/Fx8g3zeves/bf6WQVtDbENcRBfF/kYpxZcFgUWbBMhDfQI2wVSAdH5Wffp9TTyl+//8Fjy2fK/9Ab5pv1MAI4D8wh8DLQRphOZEhEYHhUtECAQ5AzXBCkC+v41+jD3w/QA9SP0EPO19dj4jfj5+y4AvAFyA1IG3QfpB2gHfQfSBlIDLgLpAK39Efu4+Xr4//WD9KDz3/Ea89b2xfwI++wBfQwWDcAORRWmGCgWLRU9FaQTaQ2kCDwGQQKe+nX3pfb28tPv4PDB8hPza/SO+Dz9cv9sAqIHWAvLDLUT6BJaEh0WVRFzDY4MHAdzARf/efpg+Jf15/M29dr0pPRy+F/6avsy//oBugN4BfUG3wfFBz0GMQauBGIB9v/B/oH7J/oy+Vf3cPYa9iv0kvPy9Uj5zP+M/HUFuw50DSMQZBZRF5sVsBOjE5wRSgqLBmsEWf+C+Nf2ePVw8jzwKPIy9O70yPbL++L/5gGGBUoK1Qz6DVUVlRHeEVcUSQ6tCiEJVANi/kr87/dX96z0dPRX9qn2KvfR+079zP5QAogEswWtBowHzgeTBtgEhwQBAg7/8f24/M35Kfm++PH3tPY793/22vSx9v36aQID/qMFThBUD1cQqhXOF3kVoRGWESUQ4gdOA3cBRf1P9j30JPR08hPwbfIZ9rb3Rvmf/rADrgUSCLoMHw9dD/8T7RA6ECUQqgqMBmoEt/6c+if5Cvbd9W71I/Z4+Fn6lvvL/7QB9AKNBQEH6AY3B7gGtQVZBOgBkAAA/wn8xfpm+qD4dvhd+Qn5yPlf+kz6g/lu+Iz6pwIuBDwAFA0SEuwOyhCKFSAVQRCdDH8NLAmoAJf9O/0Q+JDyavPi9I7zRfPN90T84/3G/+wF5wkzCnMLPQ//DlAONBAxC98KiwhNAt3/mv7C+Lf3cPjd9kX4I/r3+8H+fgD2AWsFYwU+BY0GCQbTA2gD/gEWAM3+Nf1E/MX7afqu+gP8Vfvl+z3+Y/6Z/U7+K/8G+xP6WftjA9cEZP1UC+ETpQsODEYWqhJSDLkKUws0B5j/0Pqv/HL5O/Ig8yb4svbk9Nj6hgBTAUgCcwdTDIkLDArvDCkOjAkgCaUK1ASDAvIAFf6S+3f66Pjw+in7X/sU/2cBPwG3A20F8AQTBXEElANyAl4A4/6I/u78yvv/+wf83vvr/Jv9sP7S/3QAKAGNAaYAVgB6/6P9L/kf+Uz4a/9SA5L8cgjxE+kMJAwVF1kUpw3JC+4KtgYXAGn5Mflr+DzyO/Bg9i34WfZJ+4ICVQVyBq0JUA6LD/wLcQt2DPQInANXBZ8CKv0i/Xb8Zvq/+m/7gfwKAFEALwL8BTQGAQV5Bo0FQQOeAQgAMv6o/Oz6qfqd+zf7vfsf/p//bQDaAUcDigPMA5ICNAJRAiX/nvyw/F/5svJ99cb06P8FAy78qw1HGr0P6xBCHC0X0A55Co8HwwIC+3Tx0/En9HTuN+wH9sv7ifumAIkJkQ43D/MOyhHTEl8MGQaaBVgCa/sp+bv6q/kg+F76J/7MAKoBXQSwCNoJCAhbCOAIlAUVASn/nP2y+vn32fdy+df5J/o//dsAEQJUAwcGnQfmBhcFyQTDA74A2fwU/Lb6Efjb9hT3pPYP9Dr1+/ZxCNoKAAOpFdEiDxZFE+IZ2RPrCYMAD/qS+H3zkuha6lHz2/PE8gX9CwjVC5ANixEeFvoVgA5ICc0I4AJI+EH0mvRJ9Gb14fgH/dIDdQjjCMAMLBAMDawJyAhbBWAAAfwU+QP4vPYN9TL3J/t//HD+2wLUBfEGgge5B7QHQwaoAtT/bv7J+2/58fhf+Sn6s/tv/BH+zABHAHD+9/xP/Vj85whNC/MBcQ0YGucQSArZDtAMJgZq/uv4AvnA+bPy1fB8+TP/LP2vAAQJWg33DDALWwtqDJQH5P+K/aL9cPlg9Tf2LfoSAEQERwUSCiwREQ6lCf0JKAjmAXX9pPpo+t35KfcT+Fn9r/44/qYB6ARkBZYExQNgBIYEMwGW/kL/2P73++f6RPyo/U/+8v7tAAkD9QKBAVgB4gAs/if6QPe99ZP38QadBRwCIRBRGYIVTBHeDnkOHQr9/cL1xPVd9oTwfO6l9TL+MQEdBI4JvhATE6oO5gqZCsIGcf7693n2Ffbe9Dj0B/jz/vQEswl6DdgWsxRCD1INJglCAEj6j/UY82b1KPW+9ur9awP1AxAHiAlaCXwHIQSsACUAEP4d+iz62Pt7+8z7uv3r/6EC+wP1AxEFbAYwBcUB4P+T/kz76ffW9QX0qPSC9tUEVwt6CXMSvRo5GWIUsA4ECX4Ecfsc8nXuKvGh8d/xrfddAYAIMA2cD/kRsBO+D7MHiAGM/SD4ePIs8CDyZPab+rb+CQVUDKQPDxIkFDgT6A16BjcAIvuM9iPy8PH49Qj7v/5vA2AIeQtoC+oITAYXBCUAI/u7+H74rfhg+Wv7sv4qAjwECAXjBtUHRAbFA8UClAEZ/zb8Bfrx+aX61fn0+Vr69Ptz/JoA7QsMDUEOXRIQE3oQywpFBdUBLPtG9z/1bfML9wv7df3dAhgJOwziDXcNwQtnCDkEvf6r+YP3nfYJ9uT39/uQAAwFlwgjC80MeAzCCcYGowW5Apz//f0A/Cz8r/0n/iH/uwIRBb0FBwaoBRkEGwKe//z8O/xN/I772PuZ/UD/ygAQAkADewSOBPUDVAO4Aj0BH/8Y/iP+zP67/tX+hP+gACwB/gBW/7D+dP5O/PD6Dfji/OwHNgnRCXwOjRE8Eb8MegjCAiD+cfyj9jTz9fZg+kv8xgCPBbsJDA1ADXsKAggWBgMBOPuN+Kz3sfcz+Wr7OP9/BGYIvAmtCjgLbQqXCYMFxQKuAIH9avta+wz8Z/19AFUC4QRcBzkHMwXLA+ABGP+Y/P36wPrd+yf9Fv5jANYC9gNbBHIE7gPIA7cCZgA1/0f/2f43/tj+R/+UAA4C9QEnAswCogIXAej/9/0o+/n5YvrP9yP4rgPdCyYMEQ4MEgMSRBCEDG4BNPug/Lz3hPFg84748fxSAj0G2QifDbwQlAzFBqMEVAGr+1H3NvXi9bn5AP0c/7kDuAmDDPAL5ArbCRUJTQVhAXb+XvzV+2b76fvt/eMBIAS1BUwH0QcnBqADvAD5/Vb8+vpA+jT7eP1y/4MBdAPUBCIFhwRuA1UCwwGpACX/Rf5V/uT+zf/LAHsBUgJdA2cDKANKA2kCCgGL/4v9Mv0z/Y38rPvC/DH82Pqv+9EFtQ/FCxkMIRDbD3kLrgfs/9j5s/vT+WT0RvYO/XIA8QNyBwEJWAtnDXIJWAN2Aav/PvsS+Lj3HPnE/F4A/gEKBYMJTAsjCxgMSAyGBjgCUf+5+3P5ZPlr+Qn8nwF/BHMGjAjlCMEGcAT7AGb9r/t9+l35w/rA/cj/KAJqBC4FUAVgBbUDEgJ8AR8AZv55/v7+Lv9QAOsATQGuAogDhQJLAq0C9wEcAaUA0/8n/23/m/6+/mL/cf8d/3z+ovxc+o/68gAICyQK0gnXDrQQtA7lCjECK/3e/Yv6s/QC9RD6h/2KASkEeAaECnoNJAqzBScE8AEf/nf6Tfjp+DH8U/4XAEgF2wyCDqsL2wlRCP4EHgDA+hP4XfpM/Br8H/7SAjIGTgcqBmQELgQIA+v+iPug+7L8cv3z/fP+eAH/A84DtQI0A5AD3QIeAev/UABwAbQALf/V/4EB1wEdAfEAfAG2AjkDMgLsAFEB2AG9AOL/AwBgABEA4v9O/xIAwwBnAAn/+f6U/nT9v/vd/eIGnwhnCL0KIA7jDJwKNgX6/7j/Wf78+Wv47vta/pEANQJYA8AFegjfBtMDTQMVA7gBKwDB//kA3gLLAggCVAJtAxADBAIpAVMBLgL0AbsAYgAUAQIBMwCO/8P/hwAEAZ0AgABqAfkBiwH7AOEAFwENAW4A4v9TAEcBcwEZATIBogElAtUBBgHcACIBhQHLAYgBXQEvAsoCIAJYAUoBgQGrATgBoQBhATUCFwLnAdUBzQGoAUcBEAE4AeEAVwG0Ae0B2AE1AnkCrQLJAggCrQGtAYEBzgD4AF0BcwHAAQAClgI1AysDNgNQA9gCWQIHAmsBJAFkAVcBnwH7AVYCVwIMAukBpwFsAUEB6QClAAkBKQH2ADcBrAG6AQ0CVQIrAjYC1wFLAUABhwEmAfQALAFMAbQB0wFqAYcBLwIiAqABNAH+AG8B/AF4AQUBYQHTAR0CzQESARQB7QEJAsYB1QHzAXkCsgLkAUEBdgGIAT0B3QDKADoBFwIQAqABwgHnAe4BrwH1AIkALwGJAa0BGwKLAq0CkQLyAWgB/AFXAkMCMQIOAhIC+QE0AY8ARwHhAfQB7AHLARMCRwLNAeIA8AA7AUoBJwHNAAcBaAFaAfoA/gA/AaoB9gGsAV0BdAGbAYwBIwHXAPgAaAGrAXMBXAHDAfgBqQFPAQ0BTQGUATkB5gAVAY8B3AGvASAB/QBFAVMBKQElAYQBKgKJAmkCNQJdAloC5gFhAfcAPwGYAVgBFgE2AYUB4gHXAVIBOAFmAWgBBgGCAH4A4QApAQEB9QAPAVYBWQETAR0BJwGBAZwBRgEWATsBcQFiASAB6gAvAZMBkwFQAQQBvACtAMEApQB1AJYAFQF/Ab0BnwGXAbMBmwGWAYABlQH6AT4CEALYAdkB1gGZAScBAwErATUBBAHUAMEA1wAGASQBRAFvAZ8BpwF4AS8BLwE/ASsBKwE+AZMBxwHJAbcBlQF0AVUBQgEJAfwAHgFdAasBqAGNAYQBcgFlATcB8QDtAAoBBgH2AOUA5wARAToBWQFfAYEBwQHbAbcBhQGVAc0B0gGfAXUBVgFdAVsBLQH0AMsA7wAcATkBOAFVAawB3wHXAbMBnAF7AXkBjAGYAYgBWgFLAU0BQQFMAUQBPgFiAWwBcAF4AZABuAHJAd4B1gHoAfwBAgIAAuMB1gE=\" type=\"audio/x-wav\" />\n",
              "                    Your browser does not support the audio element.\n",
              "                </audio>\n",
              "              "
            ]
          },
          "metadata": {},
          "execution_count": 5
        }
      ],
      "source": [
        "# testing set\n",
        "\n",
        "test_orig = {}\n",
        "test_orig[\"1t\"] = librosa.load('05_dtw_hmm/1t.wav', sr = Fs)[0]\n",
        "test_orig[\"2t\"] = librosa.load('05_dtw_hmm/2t.wav', sr = Fs)[0]\n",
        "test_orig[\"3t\"] = librosa.load('05_dtw_hmm/3t.wav', sr = Fs)[0]\n",
        "test_orig[\"4t\"] = librosa.load('05_dtw_hmm/4t.wav', sr = Fs)[0]\n",
        "test_orig[\"1l\"] = librosa.load('05_dtw_hmm/1l.wav', sr = Fs)[0]\n",
        "test_orig[\"2l\"] = librosa.load('05_dtw_hmm/2l.wav', sr = Fs)[0]\n",
        "test_orig[\"b\"] = librosa.load('05_dtw_hmm/b.wav', sr = Fs)[0]\n",
        "\n",
        "test = {}\n",
        "test[\"1t\"] = frame('05_dtw_hmm/1t.wav', 240, 160, Fs = 8000)\n",
        "test[\"2t\"] = frame('05_dtw_hmm/2t.wav', 240, 160, Fs = 8000)\n",
        "test[\"3t\"] = frame('05_dtw_hmm/3t.wav', 240, 160, Fs = 8000)\n",
        "test[\"4t\"] = frame('05_dtw_hmm/4t.wav', 240, 160, Fs = 8000)\n",
        "test[\"1l\"] = frame('05_dtw_hmm/1l.wav', 240, 160, Fs = 8000)\n",
        "test[\"2l\"] = frame('05_dtw_hmm/2l.wav', 240, 160, Fs = 8000)\n",
        "test[\"b\"] = frame('05_dtw_hmm/b.wav', 240, 160, Fs = 8000)\n",
        "\n",
        "Audio('05_dtw_hmm/2t.wav', rate = 8000)"
      ]
    },
    {
      "cell_type": "markdown",
      "metadata": {
        "id": "jTN0HfxSbelZ"
      },
      "source": [
        "### 1.1 Calculate LPC coefficients and transform them into **cepstral** coefficients:\n",
        "\n",
        "from lecture on LPC : [ppt](img\\\\lpcc.PNG) and [ppt2](img\\\\LPCCcoeff.png)\n",
        "\n",
        "$$ c(n) = {\\it F}^{-1}[\\ln G_{LPC}(f)] $$\n",
        "\n",
        "1) $$c(0) =  \\ln G^2$$\n",
        "\n",
        "2) $$ c(n) = -a_n - \\frac{1}{n}\\displaystyle\\sum_{k=1}^{n-1}k\\;c_k\\;a_{n-k}$$\n",
        "    for $1\\leq n \\leq P$\n"
      ]
    },
    {
      "cell_type": "code",
      "execution_count": 6,
      "metadata": {
        "id": "ZjeIxux1belZ",
        "outputId": "c35c0249-bd2f-45f3-81e9-92f12b4e023b",
        "colab": {
          "base_uri": "https://localhost:8080/"
        }
      },
      "outputs": [
        {
          "output_type": "stream",
          "name": "stdout",
          "text": [
            "test vectors shapes\n",
            "(55, 10)\n",
            "(40, 10)\n",
            "(36, 10)\n",
            "(49, 10)\n",
            "Test vectors shapes\n",
            "(47, 10)\n",
            "(38, 10)\n",
            "(30, 10)\n",
            "(51, 10)\n",
            "(64, 10)\n",
            "(80, 10)\n",
            "(44, 10)\n"
          ]
        }
      ],
      "source": [
        "def lpc_coefficients(frame, P):\n",
        "    R = np.array([np.sum(frame[i:] * frame[:len(frame)-i]) for i in range(P+1)])\n",
        "    A = np.hstack([[1], np.linalg.inv(scipy.linalg.toeplitz(R[:-1])) @ -R[1:]])\n",
        "\n",
        "    return A # shape (P+1)\n",
        "\n",
        "def LPCC(sig_frames, P):\n",
        "    # P: order of LPC (10)\n",
        "    LPC = np.array([lpc_coefficients(fr, P) for fr in sig_frames]) # matrix of LPC coefficients, shape: (N,P+1)\n",
        "    LPC_cepstral = []\n",
        "    N = P+1\n",
        "\n",
        "    for frame in range(0, len(sig_frames)):\n",
        "        c = np.zeros((N+1))\n",
        "        a = LPC[frame]\n",
        "        ahelp = np.hstack([a, np.zeros(N - len(a))])\n",
        "        c[1] = - ahelp[1]\n",
        "        for n in range(2, N):\n",
        "            k_s = np.arange(1, n-1)\n",
        "            c_k_s = c[1:n-1]\n",
        "            a_n_s = ahelp[n-k_s]\n",
        "            som = np.sum(k_s*c_k_s*a_n_s)/n\n",
        "            c[n] = -ahelp[n] - som\n",
        "\n",
        "        #print(c.shape)\n",
        "        LPC_cepstral.append(c[1:-1])\n",
        "\n",
        "    print(np.array(LPC_cepstral).shape)\n",
        "\n",
        "    return np.array(LPC_cepstral)\n",
        "\n",
        "print(\"test vectors shapes\")\n",
        "LPCCr = [LPCC(sig, P = 10) for sig in train.values()]\n",
        "LPCC_train = {k: v for k,v in zip(train.keys(), LPCCr)}\n",
        "\n",
        "print(\"Test vectors shapes\")\n",
        "LPCCs = [LPCC(sig, P = 10) for sig in test.values()]\n",
        "LPCC_test = {k: v for k,v in zip(test.keys(), LPCCs)}\n"
      ]
    },
    {
      "cell_type": "markdown",
      "metadata": {
        "id": "Z5HAu3HZbelZ"
      },
      "source": [
        "### 1.2 Define the trajectory for one word\n",
        "We want to know to which of the train words the test word is closer, but the length of the word vectors are not the same (each word has different length).\n",
        "\n",
        "To calculate the distance between two words we consider the distances between each frame **one vector of length P ( = 10) per frame**.\n",
        "\n",
        "Algorithm from lecture: [DTW](img\\\\DTW.PNG)\n",
        "\n",
        "#### 1.2.1 Define the word matrices and distances:\n",
        "1) Test word:\n",
        "\n",
        "    **o = $LPCC\\{x_{test}\\}$** ---> shape: (T, P), where T is length of test vector (n. of frames)\n",
        "\n",
        "2) Train word:\n",
        "\n",
        "    **r = $LPCC\\{x_{train}\\}$** ---> shape: (R, P), where R is length of train vector\n",
        "\n",
        "3) Distance:\n",
        "\n",
        "    $d(x_o, x_r) = \\sqrt{\\sum_{i=1}^{P} \\|x_o[i]-x_r[i]\\|^2}$\n",
        "\n",
        "    where $x_o, x_r$ are frames respectively of the test vector **o** and of the train vector **r**\n",
        "\n"
      ]
    },
    {
      "cell_type": "code",
      "execution_count": 7,
      "metadata": {
        "id": "TaDIEF_3bela",
        "outputId": "c6105498-9faf-48cf-fbe9-9c821102b697",
        "colab": {
          "base_uri": "https://localhost:8080/"
        }
      },
      "outputs": [
        {
          "output_type": "stream",
          "name": "stdout",
          "text": [
            "(47, 55)\n"
          ]
        },
        {
          "output_type": "execute_result",
          "data": {
            "text/plain": [
              "array([[0., 0., 0., ..., 0., 0., 0.],\n",
              "       [0., 0., 0., ..., 0., 0., 0.],\n",
              "       [0., 0., 0., ..., 0., 0., 0.],\n",
              "       ...,\n",
              "       [0., 0., 0., ..., 0., 0., 0.],\n",
              "       [0., 0., 0., ..., 0., 0., 0.],\n",
              "       [0., 0., 0., ..., 0., 0., 0.]])"
            ]
          },
          "metadata": {},
          "execution_count": 7
        }
      ],
      "source": [
        "r = LPCC_train[\"1\"] #(55,11)\n",
        "R = r.shape[0]\n",
        "\n",
        "o = LPCC_test[\"1t\"] #(47,11)\n",
        "T = o.shape[0]\n",
        "\n",
        "P = o.shape[1]\n",
        "dist = np.zeros((T, R))\n",
        "\n",
        "#dist[idx_o, idx_r] # list of distances between all frames\n",
        "\n",
        "print(dist.shape) # TxR\n",
        "dist\n"
      ]
    },
    {
      "cell_type": "markdown",
      "metadata": {
        "id": "IXCGHYHpbela"
      },
      "source": [
        "#### 1.2.2 Matrix of costs G - partial cumulative distances\n",
        "\n",
        "$$G(\\mathbf{o},\\mathbf{r}) =\n",
        "\\begin{bmatrix}\n",
        "g_{0,0} & g_{1,0} & ... & g_{0,R}\\\\\n",
        "...\\\\\n",
        "g_{T,0} & g_{T,1} & ... & g_{T,R}\n",
        "\\end{bmatrix}\n",
        "$$\n",
        "where $g_{i,j}$ is the cost of the ${i,j}$ step:\n",
        "$$ g(i,j) = \\min \\left\\{\n",
        "\\begin{align*}\n",
        "& d(i,j) + g(i−1,j)\\\\\n",
        "& d(i,j) + g(i,j−1)\\\\\n",
        "& d(i,j) + g(i−1,j−1)\\\\\n",
        "\\end{align*}\n",
        "\\right.\\\\\n",
        "1\\leq i\\leq T\\quad\\quad 1\\leq j\\leq R\n",
        "$$\n",
        "\n",
        "Initialize:\n",
        "$$ g(0, 0) = 0$$\n",
        "$$g(0,j) = \\infty$$\n",
        "$$g(j,0) = \\infty$$\n"
      ]
    },
    {
      "cell_type": "code",
      "execution_count": 9,
      "metadata": {
        "id": "02Dr23e0bela",
        "outputId": "621d8211-347f-4b32-a466-04c77a90cfd7",
        "colab": {
          "base_uri": "https://localhost:8080/"
        }
      },
      "outputs": [
        {
          "output_type": "stream",
          "name": "stdout",
          "text": [
            "[[ 0. inf inf ... inf inf inf]\n",
            " [inf  0.  0. ...  0.  0.  0.]\n",
            " [inf  0.  0. ...  0.  0.  0.]\n",
            " ...\n",
            " [inf  0.  0. ...  0.  0.  0.]\n",
            " [inf  0.  0. ...  0.  0.  0.]\n",
            " [inf  0.  0. ...  0.  0.  0.]]\n"
          ]
        }
      ],
      "source": [
        "# INIT\n",
        "g = np.zeros((T+1, R+1))\n",
        "g[0,1:] = np.inf\n",
        "g[1:,0] = np.inf\n",
        "print(g)\n"
      ]
    },
    {
      "cell_type": "code",
      "execution_count": 10,
      "metadata": {
        "id": "oAz6PY-Dbelb",
        "outputId": "91d091ac-d970-44af-8314-c29762686ffd",
        "colab": {
          "base_uri": "https://localhost:8080/",
          "height": 106
        }
      },
      "outputs": [
        {
          "output_type": "error",
          "ename": "SyntaxError",
          "evalue": "invalid syntax (<ipython-input-10-992f42345ebf>, line 5)",
          "traceback": [
            "\u001b[0;36m  File \u001b[0;32m\"<ipython-input-10-992f42345ebf>\"\u001b[0;36m, line \u001b[0;32m5\u001b[0m\n\u001b[0;31m    d = ##\u001b[0m\n\u001b[0m        ^\u001b[0m\n\u001b[0;31mSyntaxError\u001b[0m\u001b[0;31m:\u001b[0m invalid syntax\n"
          ]
        }
      ],
      "source": [
        "#g = np.zeros((T+1, R+1))\n",
        "directions = np.zeros((T+1,R+1))\n",
        "for idx_o in range(0, T):\n",
        "    for idx_r in range(0, R):\n",
        "        d = ##\n",
        "        w = ##  #symmetrical W_k\n",
        "\n",
        "        g_prev =  # Idxs shifted by one because of structure of g\n",
        "\n",
        "        g[idx_o+1, idx_r+1] = ##\n",
        "        directions[idx_o+1, idx_r+1] = ##\n",
        "\n",
        "print(g)\n",
        "print(directions)"
      ]
    },
    {
      "cell_type": "markdown",
      "metadata": {
        "id": "GsBosIj3belb"
      },
      "source": [
        "\n",
        "#### 1.2.3 Calculate the minimal normalized cumulative distance:\n",
        "$$\n",
        "D(\\mathbf{O},\\mathbf{R}) =\\frac{g(T,R)}{T+R}\n",
        "$$"
      ]
    },
    {
      "cell_type": "code",
      "execution_count": null,
      "metadata": {
        "id": "m6NvAG08belb"
      },
      "outputs": [],
      "source": [
        "D = g[-1,-1]/(T+R)\n",
        "print(D)\n"
      ]
    },
    {
      "cell_type": "markdown",
      "metadata": {
        "id": "MvFuyF3cbelb"
      },
      "source": [
        "#### Q: When is it zero? Why?"
      ]
    },
    {
      "cell_type": "markdown",
      "metadata": {
        "id": "7ksWgft1belb"
      },
      "source": [
        "#### 1.2.4 Draw the trajectory of the DTW\n",
        "Get the list of points to draw the DTW trajectory. Start from the last point (coordinates [T,R]) and then proceed according to the chosen predecessor (array *directions*)"
      ]
    },
    {
      "cell_type": "code",
      "execution_count": null,
      "metadata": {
        "id": "BOlZaOrLbelb"
      },
      "outputs": [],
      "source": [
        "max_idx = np.min([T,R])\n",
        "traj = np.zeros((max_idx, 2))\n",
        "traj[0,:] = [T-1,R-1]\n",
        "#traj = [[T,R]] # to get the list of points in the trajectory start from the end\n",
        "direction = directions[-1,-1]\n",
        "\n",
        "for i in range(0,max_idx-1):\n",
        "    actual = traj[i,:]\n",
        "    # translate the direction index 0,1,2 according to the calculation of g:\n",
        "    #g_prev = np.array([g[idx_o-1, idx_r], g[idx_o-1, idx_r-1], g[idx_o, idx_r-1]])\n",
        "    if direction == 0:\n",
        "        next = #\n",
        "    elif direction == 1:\n",
        "        next = #\n",
        "    elif direction == 2:\n",
        "        next = #\n",
        "    else:\n",
        "        next = #\n",
        "\n",
        "    next = [int(_) for _ in next]\n",
        "    direction = directions[next[0], next[1]]\n",
        "    traj[i+1,0] = next[0]\n",
        "    traj[i+1,1] = next[1]\n",
        "\n",
        "traj = np.array(traj)[::-1]"
      ]
    },
    {
      "cell_type": "code",
      "execution_count": null,
      "metadata": {
        "id": "zkidX6mabelc"
      },
      "outputs": [],
      "source": [
        "fig, ax = plt.subplots(1,2)\n",
        "ax[0].imshow(dist, origin='lower')\n",
        "ax[1].imshow(g, origin='lower')\n",
        "ax[1].plot(traj[:,1], traj[:,0], c='r')\n",
        "fig.tight_layout()\n",
        "fig.show()"
      ]
    },
    {
      "cell_type": "code",
      "execution_count": null,
      "metadata": {
        "id": "JdPA0sxkbelc"
      },
      "outputs": [],
      "source": [
        "def DTW(r, o, plots = True): # r: train sample, o: test sample\n",
        "\n",
        "    ### PASTE YOUR SOLUTION HERE.\n",
        "\n",
        "\n",
        "    if plots:\n",
        "        fig, ax = plt.subplots(1,2)\n",
        "        ax[0].imshow(dist, origin='lower')\n",
        "        ax[1].imshow(g, origin='lower')\n",
        "        ax[1].plot(traj[:,1], traj[:,0], c='r')\n",
        "        fig.tight_layout()\n",
        "        fig.show()\n",
        "\n",
        "    return D, traj"
      ]
    },
    {
      "cell_type": "markdown",
      "metadata": {
        "id": "pXTE1gTfbelc"
      },
      "source": [
        "### 1.3 Compare Test and Train samples\n",
        "Let's use the DTW calculation to compare samples.\n",
        "\n"
      ]
    },
    {
      "cell_type": "markdown",
      "metadata": {
        "id": "HDigq24ubelc"
      },
      "source": [
        "#### 1.3.1 Same sample"
      ]
    },
    {
      "cell_type": "code",
      "execution_count": null,
      "metadata": {
        "id": "RYqc_i5zbelc"
      },
      "outputs": [],
      "source": [
        "D, traj = DTW(LPCC_train[\"1\"], LPCC_train[\"1\"], True)\n",
        "print(D)"
      ]
    },
    {
      "cell_type": "markdown",
      "metadata": {
        "id": "d_IvxVwXbelc"
      },
      "source": [
        "#### Q: Why is the line straight?\n",
        "\n",
        "#### Q: What is the \"four-leaf clover\" in the last samples (45..55)?"
      ]
    },
    {
      "cell_type": "markdown",
      "metadata": {
        "id": "IYd0myzKbelc"
      },
      "source": [
        "#### 1.3.2 Same word, different sample"
      ]
    },
    {
      "cell_type": "code",
      "execution_count": null,
      "metadata": {
        "id": "VuFxz7xDbeld"
      },
      "outputs": [],
      "source": [
        "D, traj = DTW(LPCC_train[\"1\"],LPCC_test[\"1t\"], True)\n",
        "print(D)"
      ]
    },
    {
      "cell_type": "code",
      "execution_count": null,
      "metadata": {
        "id": "M3GtXvGYbeld"
      },
      "outputs": [],
      "source": [
        "Audio(train_orig[\"1\"], rate = Fs)"
      ]
    },
    {
      "cell_type": "code",
      "execution_count": null,
      "metadata": {
        "id": "wzoys5V2beld"
      },
      "outputs": [],
      "source": [
        "Audio(test_orig[\"1t\"], rate = Fs)"
      ]
    },
    {
      "cell_type": "markdown",
      "metadata": {
        "id": "Z8XzkxNqbeld"
      },
      "source": [
        "#### 1.3.3 Tests"
      ]
    },
    {
      "cell_type": "code",
      "execution_count": null,
      "metadata": {
        "id": "Ze-w2C2abeld"
      },
      "outputs": [],
      "source": [
        "D, _ = DTW(LPCC_train[\"1\"],LPCC_test[\"1l\"], True)\n",
        "print(D)"
      ]
    },
    {
      "cell_type": "markdown",
      "metadata": {
        "id": "BU1NioBobeld"
      },
      "source": [
        "#### Q: How is the \"1l\" sample compared to the train \"1\"? Can you see it in the trajectory?"
      ]
    },
    {
      "cell_type": "code",
      "execution_count": null,
      "metadata": {
        "id": "foQU1oWObeld"
      },
      "outputs": [],
      "source": [
        "Audio(test_orig[\"1l\"], rate = Fs)"
      ]
    },
    {
      "cell_type": "markdown",
      "metadata": {
        "id": "nP2_EEMlbeld"
      },
      "source": [
        "#### Q: What is the DTW distance? What does it tell you?\n"
      ]
    },
    {
      "cell_type": "code",
      "execution_count": null,
      "metadata": {
        "id": "RbPNLrQBfzO0"
      },
      "outputs": [],
      "source": [
        "D, _ = DTW(LPCC_train[\"4\"],LPCC_test[\"4t\"],  True)\n",
        "print(D)"
      ]
    },
    {
      "cell_type": "markdown",
      "metadata": {
        "id": "wVBUM176E970"
      },
      "source": [
        "### 1.3.4 Word recognition\n",
        "Take a test sammple and compare it to the train samples to decide which one it is. You need to compare the D values to do so. Let's try to recognize the test sample nr. 2."
      ]
    },
    {
      "cell_type": "code",
      "execution_count": null,
      "metadata": {
        "id": "lgZR0SQ-E970"
      },
      "outputs": [],
      "source": [
        "distances2 = []\n",
        "for i in range(1,5):\n",
        "    D, _ = DTW(LPCC_train[str(i)],LPCC_test[\"2t\"],True)\n",
        "    distances2.append(D)\n",
        "\n",
        "print(distances2)"
      ]
    },
    {
      "cell_type": "code",
      "execution_count": null,
      "metadata": {
        "id": "pBs7pYYRE971"
      },
      "outputs": [],
      "source": [
        "recognized = np.argmin(distances2) + 1\n",
        "print(f'The \"2t.wav\" sample is closer to : saple nr. {recognized} from the train set')"
      ]
    },
    {
      "cell_type": "markdown",
      "metadata": {
        "id": "3KDcCbirbele"
      },
      "source": [
        "#### Q: Check the trajectories. What are the vertical lines related to? Listen to the Audio."
      ]
    },
    {
      "cell_type": "code",
      "execution_count": null,
      "metadata": {
        "id": "JwQEHUpkaGp8"
      },
      "outputs": [],
      "source": [
        "distances = []\n",
        "for i in range(1,5):\n",
        "    D,_ = DTW(LPCC_train[str(i)], LPCC_test[\"1l\"], True)\n",
        "    distances.append(D)\n",
        "    chosen = np.argmin(distances) + 1\n",
        "\n",
        "print(f'Rozpoznano ======= p_cb: {chosen} ========')"
      ]
    },
    {
      "cell_type": "code",
      "execution_count": null,
      "metadata": {
        "id": "WGCOFE6yaJiU"
      },
      "outputs": [],
      "source": [
        "distances = []\n",
        "for i in range(1,4):\n",
        "    D,_ = DTW(LPCC_test[\"b\"], LPCC_train[str(i)], True)\n",
        "    distances.append(D)\n",
        "    chosen = np.argmin(distances) + 1\n",
        "\n",
        "print(f'Recognized ======= p_cb: {chosen} ========')"
      ]
    },
    {
      "cell_type": "markdown",
      "metadata": {
        "id": "yn8K-FhHbelj"
      },
      "source": [
        "#### Q: Do you think that DTW will have a 100% success rate in case of more complex inputs (noise, multi-channel, multi-speaker)? Guess the error rate of the english speech recognition systems (meetings, calls)"
      ]
    }
  ],
  "metadata": {
    "colab": {
      "provenance": []
    },
    "kernelspec": {
      "display_name": "Python 3",
      "language": "python",
      "name": "python3"
    },
    "language_info": {
      "codemirror_mode": {
        "name": "ipython",
        "version": 3
      },
      "file_extension": ".py",
      "mimetype": "text/x-python",
      "name": "python",
      "nbconvert_exporter": "python",
      "pygments_lexer": "ipython3",
      "version": "3.11.6"
    }
  },
  "nbformat": 4,
  "nbformat_minor": 0
}