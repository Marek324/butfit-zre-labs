{
  "cells": [
    {
      "cell_type": "markdown",
      "metadata": {
        "id": "vFa5cTQzCLer"
      },
      "source": [
        "## Cvika 6\n",
        "\n",
        "\n",
        "Klasifikace mluvčích in the wild. (experiment by Honza Brukner)\n",
        "\n",
        "V dnešních cvikách uděláme velký skok a budeme(te) dělat klasifikaci mluvčích na malém množství dat.\n",
        "\n",
        "Data si nejprve stáhneme do složky `data`:"
      ]
    },
    {
      "cell_type": "code",
      "execution_count": null,
      "metadata": {
        "colab": {
          "base_uri": "https://localhost:8080/"
        },
        "id": "idmlept8COQd",
        "outputId": "8e8fa682-d05a-4ed2-c2b5-35abe96e11f8"
      },
      "outputs": [
        {
          "output_type": "stream",
          "name": "stdout",
          "text": [
            "--2024-04-15 14:55:37--  https://www.fit.vutbr.cz/~ibrukner/ZRE/cvika/data6.zip\n",
            "Resolving www.fit.vutbr.cz (www.fit.vutbr.cz)... 147.229.9.23, 2001:67c:1220:809::93e5:917\n",
            "Connecting to www.fit.vutbr.cz (www.fit.vutbr.cz)|147.229.9.23|:443... connected.\n",
            "HTTP request sent, awaiting response... 200 OK\n",
            "Length: 42513865 (41M) [application/zip]\n",
            "Saving to: ‘data.zip’\n",
            "\n",
            "data.zip            100%[===================>]  40.54M  10.3MB/s    in 8.2s    \n",
            "\n",
            "2024-04-15 14:55:48 (4.97 MB/s) - ‘data.zip’ saved [42513865/42513865]\n",
            "\n",
            "Archive:  data.zip\n",
            "   creating: ostra_data/\n",
            "   creating: ostra_data/dev/\n",
            "  inflating: ostra_data/dev/f401_05_f13_i0_0.wav  \n",
            "  inflating: ostra_data/dev/f401_05_r07_i0_0.wav  \n",
            "  inflating: ostra_data/dev/f402_04_r07_i0_0.wav  \n",
            "  inflating: ostra_data/dev/f402_05_f13_i0_0.wav  \n",
            "  inflating: ostra_data/dev/f403_04_r07_i0_0.wav  \n",
            "  inflating: ostra_data/dev/f403_05_f13_i0_0.wav  \n",
            "  inflating: ostra_data/dev/f404_04_r07_i0_0.wav  \n",
            "  inflating: ostra_data/dev/f404_05_f13_i0_0.wav  \n",
            "  inflating: ostra_data/dev/f405_04_r07_i0_0.wav  \n",
            "  inflating: ostra_data/dev/f405_05_f13_i0_0.wav  \n",
            "  inflating: ostra_data/dev/f406_05_r07_i0_0.wav  \n",
            "  inflating: ostra_data/dev/f406_06_f13_i0_0.wav  \n",
            "  inflating: ostra_data/dev/m414_03_r07_i0_0.wav  \n",
            "  inflating: ostra_data/dev/m414_04_f13_i0_0.wav  \n",
            "  inflating: ostra_data/dev/m416_04_r07_i0_0.wav  \n",
            "  inflating: ostra_data/dev/m416_05_f13_i0_0.wav  \n",
            "  inflating: ostra_data/dev/m417_04_r07_i0_0.wav  \n",
            "  inflating: ostra_data/dev/m417_05_f13_i0_0.wav  \n",
            "  inflating: ostra_data/dev/m419_04_r07_i0_0.wav  \n",
            "  inflating: ostra_data/dev/m419_05_f13_i0_0.wav  \n",
            "  inflating: ostra_data/dev/m420_04_r07_i0_0.wav  \n",
            "  inflating: ostra_data/dev/m420_05_f13_i0_0.wav  \n",
            "  inflating: ostra_data/dev/m421_02_r08_i0_0.wav  \n",
            "  inflating: ostra_data/dev/m421_02_r09_i0_0.wav  \n",
            "  inflating: ostra_data/dev/m422_04_r07_i0_0.wav  \n",
            "  inflating: ostra_data/dev/m422_05_f13_i0_0.wav  \n",
            "   creating: ostra_data/test/\n",
            "  inflating: ostra_data/test/eval_1.wav  \n",
            "  inflating: ostra_data/test/eval_2.wav  \n",
            "  inflating: ostra_data/test/eval_3.wav  \n",
            "  inflating: ostra_data/test/eval_4.wav  \n",
            "  inflating: ostra_data/test/eval_5.wav  \n",
            "  inflating: ostra_data/test/eval_6.wav  \n",
            "  inflating: ostra_data/test/eval_7.wav  \n",
            "  inflating: ostra_data/test/eval_8.wav  \n",
            "  inflating: ostra_data/test/eval_9.wav  \n",
            "  inflating: ostra_data/test/eval_10.wav  \n",
            "  inflating: ostra_data/test/eval_11.wav  \n",
            "  inflating: ostra_data/test/eval_12.wav  \n",
            "  inflating: ostra_data/test/eval_13.wav  \n",
            "  inflating: ostra_data/test/eval_14.wav  \n",
            "  inflating: ostra_data/test/eval_15.wav  \n",
            "  inflating: ostra_data/test/eval_16.wav  \n",
            "  inflating: ostra_data/test/eval_17.wav  \n",
            "  inflating: ostra_data/test/eval_18.wav  \n",
            "  inflating: ostra_data/test/eval_19.wav  \n",
            "  inflating: ostra_data/test/eval_20.wav  \n",
            "  inflating: ostra_data/test/eval_21.wav  \n",
            "  inflating: ostra_data/test/eval_22.wav  \n",
            "  inflating: ostra_data/test/eval_23.wav  \n",
            "  inflating: ostra_data/test/eval_24.wav  \n",
            "  inflating: ostra_data/test/eval_25.wav  \n",
            "  inflating: ostra_data/test/eval_26.wav  \n",
            "  inflating: ostra_data/test/eval_27.wav  \n",
            "  inflating: ostra_data/test/eval_28.wav  \n",
            "  inflating: ostra_data/test/eval_29.wav  \n",
            "  inflating: ostra_data/test/eval_30.wav  \n",
            "  inflating: ostra_data/test/eval_31.wav  \n",
            "  inflating: ostra_data/test/eval_32.wav  \n",
            "  inflating: ostra_data/test/eval_33.wav  \n",
            "  inflating: ostra_data/test/eval_34.wav  \n",
            "  inflating: ostra_data/test/eval_35.wav  \n",
            "  inflating: ostra_data/test/eval_36.wav  \n",
            "  inflating: ostra_data/test/eval_37.wav  \n",
            "  inflating: ostra_data/test/eval_38.wav  \n",
            "  inflating: ostra_data/test/eval_39.wav  \n",
            "  inflating: ostra_data/test/eval_40.wav  \n",
            "  inflating: ostra_data/test/eval_41.wav  \n",
            "  inflating: ostra_data/test/eval_42.wav  \n",
            "  inflating: ostra_data/test/eval_43.wav  \n",
            "  inflating: ostra_data/test/eval_44.wav  \n",
            "  inflating: ostra_data/test/eval_45.wav  \n",
            "  inflating: ostra_data/test/eval_46.wav  \n",
            "  inflating: ostra_data/test/eval_47.wav  \n",
            "  inflating: ostra_data/test/eval_48.wav  \n",
            "  inflating: ostra_data/test/eval_49.wav  \n",
            "  inflating: ostra_data/test/eval_50.wav  \n",
            "  inflating: ostra_data/test/eval_51.wav  \n",
            "  inflating: ostra_data/test/eval_52.wav  \n",
            "  inflating: ostra_data/test/eval_53.wav  \n",
            "  inflating: ostra_data/test/eval_54.wav  \n",
            "  inflating: ostra_data/test/eval_55.wav  \n",
            "  inflating: ostra_data/test/eval_56.wav  \n",
            "  inflating: ostra_data/test/eval_57.wav  \n",
            "  inflating: ostra_data/test/eval_58.wav  \n",
            "  inflating: ostra_data/test/eval_59.wav  \n",
            "  inflating: ostra_data/test/eval_60.wav  \n",
            "  inflating: ostra_data/test/eval_61.wav  \n",
            "  inflating: ostra_data/test/eval_62.wav  \n",
            "  inflating: ostra_data/test/eval_63.wav  \n",
            "  inflating: ostra_data/test/eval_64.wav  \n",
            "  inflating: ostra_data/test/eval_65.wav  \n",
            "  inflating: ostra_data/test/eval_66.wav  \n",
            "  inflating: ostra_data/test/eval_67.wav  \n",
            "  inflating: ostra_data/test/eval_68.wav  \n",
            "  inflating: ostra_data/test/eval_69.wav  \n",
            "  inflating: ostra_data/test/eval_70.wav  \n",
            "  inflating: ostra_data/test/eval_71.wav  \n",
            "  inflating: ostra_data/test/eval_72.wav  \n",
            "  inflating: ostra_data/test/eval_73.wav  \n",
            "  inflating: ostra_data/test/eval_74.wav  \n",
            "  inflating: ostra_data/test/eval_75.wav  \n",
            "  inflating: ostra_data/test/eval_76.wav  \n",
            "  inflating: ostra_data/test/eval_77.wav  \n",
            "  inflating: ostra_data/test/eval_78.wav  \n",
            "  inflating: ostra_data/test/eval_79.wav  \n",
            "  inflating: ostra_data/test/eval_80.wav  \n",
            "  inflating: ostra_data/test/eval_81.wav  \n",
            "  inflating: ostra_data/test/eval_82.wav  \n",
            "  inflating: ostra_data/test/eval_83.wav  \n",
            "  inflating: ostra_data/test/eval_84.wav  \n",
            "  inflating: ostra_data/test/eval_85.wav  \n",
            "  inflating: ostra_data/test/eval_86.wav  \n",
            "  inflating: ostra_data/test/eval_87.wav  \n",
            "  inflating: ostra_data/test/eval_88.wav  \n",
            "  inflating: ostra_data/test/eval_89.wav  \n",
            "  inflating: ostra_data/test/eval_90.wav  \n",
            "  inflating: ostra_data/test/eval_91.wav  \n",
            "  inflating: ostra_data/test/eval_92.wav  \n",
            "  inflating: ostra_data/test/eval_93.wav  \n",
            "  inflating: ostra_data/test/eval_94.wav  \n",
            "  inflating: ostra_data/test/eval_95.wav  \n",
            "  inflating: ostra_data/test/eval_96.wav  \n",
            "  inflating: ostra_data/test/eval_97.wav  \n",
            "  inflating: ostra_data/test/eval_98.wav  \n",
            "  inflating: ostra_data/test/eval_99.wav  \n",
            "  inflating: ostra_data/test/eval_100.wav  \n",
            "  inflating: ostra_data/test/eval_101.wav  \n",
            "  inflating: ostra_data/test/eval_102.wav  \n",
            "  inflating: ostra_data/test_meta    \n"
          ]
        }
      ],
      "source": [
        "!wget -O data.zip https://www.fit.vutbr.cz/~ibrukner/ZRE/cvika/data6.zip\n",
        "!unzip data.zip\n",
        "!rm -rf data\n",
        "!mv ostra_data data"
      ]
    },
    {
      "cell_type": "markdown",
      "metadata": {
        "id": "RHXH7pIhC0-o"
      },
      "source": [
        "Struktura staženého adresáře `data` je následující:\n",
        "- `dev` - adresář obsahující nahrávky, které můžete použít pro vývoj modelu\n",
        "- `test` - adresář s testovacími daty\n",
        "- `test_meta` - soubor s metadaty testovacích dat\n",
        "Pokud je vám povědomý název nahrávěk, není to náhoda, jsou z projektu SUR. ;-)\n",
        "\n",
        "Pravidla pro vytvoření systému jsou následující:\n",
        "- nesmíte využít `test_meta`\n",
        "- testovací data můžete využít pouze pro vyhodnocení\n",
        "- nesmíte použít data ze SUR projektu\n",
        "- můžete vše ostatní (používat jakékoliv knihovny či předtrénované modely)"
      ]
    },
    {
      "cell_type": "code",
      "execution_count": null,
      "metadata": {
        "id": "0v9JulcOCvoH"
      },
      "outputs": [],
      "source": [
        "# co bude asi potřeba\n",
        "import os\n",
        "import numpy as np"
      ]
    },
    {
      "cell_type": "code",
      "execution_count": null,
      "metadata": {
        "id": "lIHsICXoC0to"
      },
      "outputs": [],
      "source": [
        "test_meta = {}\n",
        "with open('data/test_meta', 'r') as f:\n",
        "    for line in f:\n",
        "        fid, spk = line.split()\n",
        "        test_meta[fid] = spk"
      ]
    },
    {
      "cell_type": "code",
      "execution_count": null,
      "metadata": {
        "colab": {
          "base_uri": "https://localhost:8080/"
        },
        "id": "ZQqE5f-HG3Ir",
        "outputId": "25825355-c4bc-48cb-f723-eb3a2889922f"
      },
      "outputs": [
        {
          "output_type": "stream",
          "name": "stdout",
          "text": [
            "List of speakers: spks = ['f405', 'f406', 'f401', 'm414', 'm420', 'm416', 'm417', 'm419', 'm422', 'f403', 'm421', 'f402', 'f404']\n"
          ]
        }
      ],
      "source": [
        "def evaluation(decisions):\n",
        "    if type(decisions) == list:\n",
        "        decisions = np.array(decisions)\n",
        "    acc = np.mean(classes == decisions)*100\n",
        "    print(f'Accuracy of the system is {np.round(acc, 2)}')\n",
        "    if acc >= 85:\n",
        "        print('Můžete jít domů. Hodně štěstí u zkoušky.')\n",
        "    if acc < 85:\n",
        "        print('Ještě se snažte.')\n",
        "\n",
        "folder, _, test_data = next(os.walk('data/test'))\n",
        "spks = list(set(test_meta.values()))\n",
        "print(f'List of speakers: spks = {spks}')\n",
        "test_files = []\n",
        "classes = []\n",
        "for f in test_data:\n",
        "    fid = f.split('.')[0]\n",
        "    classes.append(spks.index(test_meta[fid]))\n",
        "    test_files.append(f)\n",
        "\n",
        "decisions = []"
      ]
    },
    {
      "cell_type": "markdown",
      "metadata": {
        "id": "uIc8fVLkH591"
      },
      "source": [
        "Proměnná `spks` je seznam mluvčích, které máte klasifikovat.\n",
        "Proměnná `classes` obsahuje vyhodnocení a `test_files` testovací nahrávky ve stejném pořadí. Dejte si pozor, abyste nezměnili pořadí vašich rozhodnutí, závisí na tom vyhodnocení. Výsledná rozhodnutí uložte do listu `decisions`.\n",
        "\n",
        "Hodně štěstí!"
      ]
    },
    {
      "cell_type": "code",
      "source": [
        "import random\n",
        "decisions = []\n",
        "for file in test_files:\n",
        "  decisions.append(random.randint(0,len(spks)))\n",
        "evaluation(decisions)"
      ],
      "metadata": {
        "colab": {
          "base_uri": "https://localhost:8080/"
        },
        "id": "vO6lKb24hqPR",
        "outputId": "53ab6137-2d85-4749-c827-8d46cbac6946"
      },
      "execution_count": null,
      "outputs": [
        {
          "output_type": "stream",
          "name": "stdout",
          "text": [
            "Accuracy of the system is 5.88\n",
            "Ještě se snažte.\n"
          ]
        }
      ]
    },
    {
      "cell_type": "code",
      "execution_count": null,
      "metadata": {
        "colab": {
          "base_uri": "https://localhost:8080/"
        },
        "id": "qqDuNLFKKrGN",
        "outputId": "39a33ef6-8ace-438a-c7ce-bad937ed1a9a"
      },
      "outputs": [
        {
          "output_type": "execute_result",
          "data": {
            "text/plain": [
              "102"
            ]
          },
          "metadata": {},
          "execution_count": 20
        }
      ],
      "source": [
        "# zde (nebo kdeloliv jinde) pracujte"
      ]
    },
    {
      "cell_type": "code",
      "execution_count": null,
      "metadata": {
        "id": "a7MEpcrxQ6AW"
      },
      "outputs": [],
      "source": [
        "evaluation(decisions)"
      ]
    }
  ],
  "metadata": {
    "colab": {
      "provenance": []
    },
    "kernelspec": {
      "display_name": "Python 3",
      "language": "python",
      "name": "python3"
    },
    "language_info": {
      "codemirror_mode": {
        "name": "ipython",
        "version": 3
      },
      "file_extension": ".py",
      "mimetype": "text/x-python",
      "name": "python",
      "nbconvert_exporter": "python",
      "pygments_lexer": "ipython3",
      "version": "3.8.3"
    }
  },
  "nbformat": 4,
  "nbformat_minor": 0
}